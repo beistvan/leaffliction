{
 "cells": [
  {
   "cell_type": "markdown",
   "id": "631ba124",
   "metadata": {},
   "source": [
    "# Predict Leaf Disease Notebook\n",
    "\n",
    "This notebook runs the Python script to predict leaf diseases using a trained model."
   ]
  },
  {
   "cell_type": "code",
   "execution_count": null,
   "id": "6d6b8132",
   "metadata": {},
   "outputs": [],
   "source": [
    "import argparse\n",
    "import os\n",
    "import zipfile\n",
    "import numpy as np\n",
    "import tensorflow as tf\n",
    "import matplotlib.pyplot as plt\n",
    "from tensorflow.keras.preprocessing import image, img_to_array, load_img"
   ]
  },
  {
   "cell_type": "code",
   "execution_count": null,
   "id": "e9814294",
   "metadata": {},
   "outputs": [],
   "source": [
    "def parse_args():\n",
    "    parser = argparse.ArgumentParser(\n",
    "        description='Predict leaf disease from a single image using a trained model.')\n",
    "    parser.add_argument('image_path', help='Path to the input image.')\n",
    "    parser.add_argument('--model_zip', default='trained_model_and_augmented.zip',\n",
    "                        help='Zip file containing the trained model.')\n",
    "    parser.add_argument('--model_file', default='trained_leaf_disease_model.h5',\n",
    "                        help='H5 model file inside the zip.')\n",
    "    return parser.parse_args()"
   ]
  },
  {
   "cell_type": "code",
   "execution_count": null,
   "id": "c48b06d2",
   "metadata": {},
   "outputs": [],
   "source": [
    "def load_model_from_zip(zip_path, model_filename):\n",
    "    \"\"\"\n",
    "    Extracts the .h5 file from the zip, loads it with Keras, then returns the model.\n",
    "    \"\"\"\n",
    "    with zipfile.ZipFile(zip_path, 'r') as zf:\n",
    "        zf.extract(model_filename, path='.')\n",
    "    model = tf.keras.models.load_model(model_filename)\n",
    "    return model"
   ]
  },
  {
   "cell_type": "code",
   "execution_count": null,
   "id": "be413702",
   "metadata": {},
   "outputs": [],
   "source": [
    "def predict_image(model, img_path):\n",
    "    \"\"\"\n",
    "    Preprocess the image, run model prediction, and return the predicted class and its confidence.\n",
    "    \"\"\"\n",
    "    img = load_img(img_path, target_size=(224, 224))\n",
    "    img_array = img_to_array(img) / 255.0\n",
    "    img_array = np.expand_dims(img_array, axis=0)\n",
    "\n",
    "    preds = model.predict(img_array)\n",
    "    class_idx = int(np.argmax(preds[0]))\n",
    "    confidence = float(preds[0][class_idx])\n",
    "    return class_idx, confidence"
   ]
  },
  {
   "cell_type": "code",
   "execution_count": null,
   "id": "ea45101f",
   "metadata": {},
   "outputs": [],
   "source": [
    "def main():\n",
    "    args = parse_args()\n",
    "    \n",
    "    if not os.path.isfile(args.image_path):\n",
    "        print(f'Error: {args.image_path} is not a valid file.')\n",
    "        return\n",
    "    \n",
    "    if not os.path.isfile(args.model_zip):\n",
    "        print(f'Error: {args.model_zip} does not exist.')\n",
    "        return\n",
    "    \n",
    "    model = load_model_from_zip(args.model_zip, args.model_file)\n",
    "    print('Model loaded successfully.')\n",
    "    \n",
    "    class_idx, confidence = predict_image(model, args.image_path)\n",
    "    \n",
    "    class_names = [\n",
    "        'apple_apple_scab',\n",
    "        'apple_black_rot',\n",
    "        'apple_cedar_apple_rust',\n",
    "        'apple_healthy'\n",
    "    ]\n",
    "    \n",
    "    predicted_class = class_names[class_idx] if class_idx < len(class_names) else 'Unknown'\n",
    "    \n",
    "    img_original = load_img(args.image_path)\n",
    "    fig, axes = plt.subplots(1, 2, figsize=(8, 4))\n",
    "    axes[0].imshow(img_original)\n",
    "    axes[0].set_title('Original Image')\n",
    "    axes[0].axis('off')\n",
    "    \n",
    "    resized_img = load_img(args.image_path, target_size=(224, 224))\n",
    "    axes[1].imshow(resized_img)\n",
    "    axes[1].set_title(f'Transformed (Resized)\\nPred: {predicted_class}\\nConf: {confidence:.2f}')\n",
    "    axes[1].axis('off')\n",
    "    \n",
    "    plt.tight_layout()\n",
    "    plt.show()\n"
   ]
  },
  {
   "cell_type": "code",
   "execution_count": null,
   "id": "35853caa",
   "metadata": {},
   "outputs": [],
   "source": [
    "main()"
   ]
  }
 ],
 "metadata": {
  "language_info": {
   "name": "python"
  }
 },
 "nbformat": 4,
 "nbformat_minor": 5
}
