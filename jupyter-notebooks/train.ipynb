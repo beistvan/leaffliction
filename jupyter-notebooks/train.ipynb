{
 "cells": [
  {
   "cell_type": "markdown",
   "id": "df7b9019",
   "metadata": {},
   "source": [
    "## Train Model\n",
    "\n",
    "Train the model. First attempt. Could be improved."
   ]
  },
  {
   "cell_type": "code",
   "execution_count": null,
   "id": "import-libraries",
   "metadata": {},
   "outputs": [],
   "source": [
    "from tensorflow.keras.preprocessing.image import ImageDataGenerator\n",
    "from tensorflow.keras import layers, models\n",
    "import argparse\n",
    "import zipfile\n",
    "import shutil\n",
    "import os"
   ]
  },
  {
   "cell_type": "markdown",
   "id": "50d838ed",
   "metadata": {},
   "source": [
    "The parse_args needs to be converted to use in the notebook."
   ]
  },
  {
   "cell_type": "code",
   "execution_count": null,
   "id": "data-preparation",
   "metadata": {},
   "outputs": [],
   "source": [
    "def parse_args():\n",
    "    parser = argparse.ArgumentParser(\n",
    "        description=\"Train a leaf disease classification model.\"\n",
    "    )\n",
    "    parser.add_argument(\"data_dir\", help=\"Path to the dataset root directory.\")\n",
    "    parser.add_argument(\n",
    "        \"--batch_size\",\n",
    "        type=int,\n",
    "        default=32,\n",
    "        help=\"Batch size.\")\n",
    "    parser.add_argument(\"--epochs\", type=int, default=10,\n",
    "                        help=\"Number of training epochs.\")\n",
    "    parser.add_argument(\n",
    "        \"--output_zip\",\n",
    "        default=\"trained_model_and_augmented.zip\",\n",
    "        help=\"\"\"Name of the output zip file containing the model\n",
    "and augmented images.\"\"\")\n",
    "    return parser.parse_args()"
   ]
  },
  {
   "cell_type": "markdown",
   "id": "b4f5b2fe",
   "metadata": {},
   "source": [
    "## Create Model"
   ]
  },
  {
   "cell_type": "code",
   "execution_count": null,
   "id": "train-model",
   "metadata": {},
   "outputs": [],
   "source": [
    "def create_model(num_classes):\n",
    "    \"\"\"\n",
    "    Example CNN model. You can customize or replace\n",
    "    with a pretrained model (e.g., MobileNet, ResNet, etc.).\n",
    "    \"\"\"\n",
    "    model = models.Sequential([\n",
    "        layers.Conv2D(32, (3, 3), activation='relu',\n",
    "                      input_shape=(224, 224, 3)),\n",
    "        layers.MaxPooling2D((2, 2)),\n",
    "        layers.Conv2D(64, (3, 3), activation='relu'),\n",
    "        layers.MaxPooling2D((2, 2)),\n",
    "        layers.Conv2D(128, (3, 3), activation='relu'),\n",
    "        layers.MaxPooling2D((2, 2)),\n",
    "        layers.Flatten(),\n",
    "        layers.Dense(128, activation='relu'),\n",
    "        layers.Dense(num_classes, activation='softmax')\n",
    "    ])\n",
    "    model.compile(\n",
    "        optimizer='adam',\n",
    "        loss='categorical_crossentropy',\n",
    "        metrics=['accuracy'])\n",
    "    return model"
   ]
  },
  {
   "cell_type": "markdown",
   "id": "5cada403",
   "metadata": {},
   "source": [
    "## Main Function"
   ]
  },
  {
   "cell_type": "code",
   "execution_count": null,
   "id": "zip-model",
   "metadata": {},
   "outputs": [],
   "source": [
    "def main():\n",
    "    \"\"\"\n",
    "    Main function to train the model and save it in a zip file.\n",
    "    \"\"\"\n",
    "    args = parse_args()\n",
    "    data_dir = os.path.abspath(args.data_dir)\n",
    "    batch_size = args.batch_size\n",
    "\n",
    "    output_zip = args.output_zip\n",
    "\n",
    "    train_datagen = ImageDataGenerator(\n",
    "        rescale=1. / 255,\n",
    "        rotation_range=20,\n",
    "        width_shift_range=0.2,\n",
    "        height_shift_range=0.2,\n",
    "        zoom_range=0.2,\n",
    "        horizontal_flip=True,\n",
    "        validation_split=0.2\n",
    "    )\n",
    "    val_datagen = ImageDataGenerator(rescale=1. / 255, validation_split=0.2)\n",
    "\n",
    "    train_generator = train_datagen.flow_from_directory(\n",
    "        directory=data_dir,\n",
    "        target_size=(224, 224),\n",
    "        batch_size=batch_size,\n",
    "        class_mode='categorical',\n",
    "        subset='training',\n",
    "        shuffle=True\n",
    "    )\n",
    "    val_generator = val_datagen.flow_from_directory(\n",
    "        directory=data_dir,\n",
    "        target_size=(224, 224),\n",
    "        batch_size=batch_size,\n",
    "        class_mode='categorical',\n",
    "        subset='validation',\n",
    "        shuffle=True\n",
    "    )\n",
    "\n",
    "    num_classes = len(train_generator.class_indices)\n",
    "    print(f\"Found {num_classes} classes: {train_generator.class_indices}\")\n",
    "\n",
    "    model = create_model(num_classes)\n",
    "    model.summary()\n",
    "\n",
    "    val_loss, val_acc = model.evaluate(val_generator)\n",
    "    print(f\"Validation accuracy: {val_acc:.2f}\")\n",
    "\n",
    "    model.save(\"trained_leaf_disease_model.h5\")\n",
    "    print(\"Model saved as trained_leaf_disease_model.h5\")\n",
    "\n",
    "    augmented_folder = \"augmented_images\"\n",
    "    if os.path.exists(augmented_folder):\n",
    "        shutil.rmtree(augmented_folder)\n",
    "    os.makedirs(augmented_folder, exist_ok=True)\n",
    "\n",
    "    with zipfile.ZipFile(output_zip, 'w', zipfile.ZIP_DEFLATED) as zf:\n",
    "        zf.write(\"trained_leaf_disease_model.h5\")\n",
    "\n",
    "        for root, dirs, files in os.walk(augmented_folder):\n",
    "            for file in files:\n",
    "                full_path = os.path.join(root, file)\n",
    "                relative_path = os.path.relpath(full_path, start=\".\")\n",
    "                zf.write(full_path, arcname=relative_path)\n",
    "\n",
    "    print(f\"Zipped model and augmented images into {output_zip}\")\n"
   ]
  },
  {
   "cell_type": "markdown",
   "id": "2c5ed5ba",
   "metadata": {},
   "source": [
    "## Run Main"
   ]
  },
  {
   "cell_type": "code",
   "execution_count": null,
   "id": "3094d018",
   "metadata": {},
   "outputs": [],
   "source": [
    "main()"
   ]
  }
 ],
 "metadata": {
  "kernelspec": {
   "display_name": "Python 3",
   "language": "python",
   "name": "python3"
  },
  "language_info": {
   "codemirror_mode": {
    "name": "ipython",
    "version": 3
   },
   "file_extension": ".py",
   "mimetype": "text/x-python",
   "name": "python",
   "nbconvert_exporter": "python",
   "pygments_lexer": "ipython3",
   "version": "3.8.10"
  }
 },
 "nbformat": 4,
 "nbformat_minor": 5
}
