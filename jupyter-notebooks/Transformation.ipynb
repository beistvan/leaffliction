{
 "cells": [
  {
   "cell_type": "code",
   "execution_count": null,
   "id": "import-libraries",
   "metadata": {},
   "outputs": [],
   "source": [
    "import os\n",
    "import sys\n",
    "import cv2\n",
    "import numpy as np\n",
    "import matplotlib.pyplot as plt"
   ]
  },
  {
   "cell_type": "code",
   "execution_count": null,
   "id": "load-image",
   "metadata": {},
   "outputs": [],
   "source": [
    "def load_image(image_path):\n",
    "    \"\"\"Load an image (and convert from BGR to RGB) using OpenCV.\"\"\"\n",
    "    img_bgr = cv2.imread(image_path)\n",
    "    if img_bgr is None:\n",
    "        print(f\"Error: Could not read image {image_path}\")\n",
    "        sys.exit(1)\n",
    "    return cv2.cvtColor(img_bgr, cv2.COLOR_BGR2RGB)"
   ]
  },
  {
   "cell_type": "code",
   "execution_count": null,
   "id": "save-image",
   "metadata": {},
   "outputs": [],
   "source": [
    "def save_image(image, save_path):\n",
    "    \"\"\"Save an RGB image to file (convert to BGR first).\"\"\"\n",
    "    img_bgr = cv2.cvtColor(image, cv2.COLOR_RGB2BGR)\n",
    "    cv2.imwrite(save_path, img_bgr)"
   ]
  },
  {
   "cell_type": "code",
   "execution_count": null,
   "id": "58e42e1b",
   "metadata": {},
   "outputs": [],
   "source": [
    "def transformation_original(image):\n",
    "    \"\"\"Return the original image.\"\"\"\n",
    "    return image.copy()"
   ]
  },
  {
   "cell_type": "code",
   "execution_count": null,
   "id": "2ced376c",
   "metadata": {},
   "outputs": [],
   "source": [
    "def transformation_gaussian(image):\n",
    "    \"\"\"Apply a Gaussian blur to the image.\"\"\"\n",
    "    return cv2.GaussianBlur(image, (7, 7), 0)"
   ]
  },
  {
   "cell_type": "code",
   "execution_count": null,
   "id": "520e4113",
   "metadata": {},
   "outputs": [],
   "source": [
    "def transformation_mask(image):\n",
    "    \"\"\"\n",
    "    Create a binary mask based on HSV thresholds.\n",
    "    (For example, to roughly segment a green leaf.)\n",
    "    \"\"\"\n",
    "    hsv = cv2.cvtColor(image, cv2.COLOR_RGB2HSV)\n",
    "    lower = np.array([25, 40, 40])\n",
    "    upper = np.array([95, 255, 255])\n",
    "    mask = cv2.inRange(hsv, lower, upper)\n",
    "    mask_rgb = cv2.cvtColor(mask, cv2.COLOR_GRAY2RGB)\n",
    "    return mask_rgb"
   ]
  },
  {
   "cell_type": "code",
   "execution_count": null,
   "id": "4b0b6abc",
   "metadata": {},
   "outputs": [],
   "source": [
    "def transformation_roi(image):\n",
    "    \"\"\"\n",
    "    Find contours from the mask and draw bounding boxes (ROIs)\n",
    "    on the image.\n",
    "    \"\"\"\n",
    "    mask = cv2.cvtColor(transformation_mask(image), cv2.COLOR_RGB2GRAY)\n",
    "    contours, _ = cv2.findContours(\n",
    "        mask, cv2.RETR_EXTERNAL, cv2.CHAIN_APPROX_SIMPLE)\n",
    "    image_roi = image.copy()\n",
    "    for cnt in contours:\n",
    "        x, y, w, h = cv2.boundingRect(cnt)\n",
    "        cv2.rectangle(image_roi, (x, y), (x + w, y + h), (0, 0, 255), 2)\n",
    "    return image_roi"
   ]
  },
  {
   "cell_type": "code",
   "execution_count": null,
   "id": "cc5c144f",
   "metadata": {},
   "outputs": [],
   "source": [
    "def transformation_analyze(image):\n",
    "    \"\"\"\n",
    "    Find the largest contour, compute its area and perimeter,\n",
    "    and annotate the image.\n",
    "    \"\"\"\n",
    "    mask = cv2.cvtColor(transformation_mask(image), cv2.COLOR_RGB2GRAY)\n",
    "    contours, _ = cv2.findContours(\n",
    "        mask, cv2.RETR_EXTERNAL, cv2.CHAIN_APPROX_SIMPLE)\n",
    "    image_analyze = image.copy()\n",
    "    if contours:\n",
    "        largest = max(contours, key=cv2.contourArea)\n",
    "        area = cv2.contourArea(largest)\n",
    "        perimeter = cv2.arcLength(largest, True)\n",
    "        cv2.drawContours(image_analyze, [largest], -1, (0, 255, 0), 2)\n",
    "        cv2.putText(image_analyze, f\"Area: {int(area)}\", (10, 30),\n",
    "                    cv2.FONT_HERSHEY_SIMPLEX, 0.8, (255, 0, 0), 2)\n",
    "        cv2.putText(image_analyze, f\"Perimeter: {int(perimeter)}\", (10, 60),\n",
    "                    cv2.FONT_HERSHEY_SIMPLEX, 0.8, (255, 0, 0), 2)\n",
    "    return image_analyze"
   ]
  },
  {
   "cell_type": "code",
   "execution_count": null,
   "id": "transformation-functions",
   "metadata": {},
   "outputs": [],
   "source": [
    "def transformation_pseudolandmarks(image):\n",
    "    \"\"\"\n",
    "    Detect corners (pseudolandmarks) using goodFeaturesToTrack and mark them.\n",
    "    \"\"\"\n",
    "    gray = cv2.cvtColor(image, cv2.COLOR_RGB2GRAY)\n",
    "    corners = cv2.goodFeaturesToTrack(\n",
    "        gray, maxCorners=50, qualityLevel=0.01, minDistance=10)\n",
    "    image_landmarks = image.copy()\n",
    "    if corners is not None:\n",
    "        corners = np.int0(corners)\n",
    "        for i in corners:\n",
    "            x, y = i.ravel()\n",
    "            cv2.circle(image_landmarks, (x, y), 3,\n",
    "                       (255, 0, 255), -1)\n",
    "    return image_landmarks"
   ]
  },
  {
   "cell_type": "code",
   "execution_count": null,
   "id": "plot-color-histogram",
   "metadata": {},
   "outputs": [],
   "source": [
    "def plot_color_histogram(image, ax):\n",
    "    \"\"\"Plot the color histogram (for each channel) on the provided axis.\"\"\"\n",
    "    colors = ('r', 'g', 'b')\n",
    "    for i, col in enumerate(colors):\n",
    "        hist = cv2.calcHist([image], [i], None, [256], [0, 256])\n",
    "        ax.plot(hist, color=col)\n",
    "        ax.set_xlim([0, 256])\n",
    "    ax.set_title(\"Color Histogram\")"
   ]
  },
  {
   "cell_type": "code",
   "execution_count": null,
   "id": "process-image",
   "metadata": {},
   "outputs": [],
   "source": [
    "def process_image(image_path):\n",
    "    \"\"\"Load an image and compute all transformations.\"\"\"\n",
    "    image = load_image(image_path)\n",
    "    transformations = {\n",
    "        \"Original\": transformation_original(image),\n",
    "        \"Gaussian_blur\": transformation_gaussian(image),\n",
    "        \"Mask\": transformation_mask(image),\n",
    "        \"ROI_objects\": transformation_roi(image),\n",
    "        \"Analyze_object\": transformation_analyze(image),\n",
    "        \"Pseudolandmarks\": transformation_pseudolandmarks(image)\n",
    "    }\n",
    "    return image, transformations"
   ]
  },
  {
   "cell_type": "code",
   "execution_count": null,
   "id": "display-transformations",
   "metadata": {},
   "outputs": [],
   "source": [
    "def display_transformations(image, transformations):\n",
    "    \"\"\"\n",
    "    Display all seven figures (six transformations plus color histogram)\n",
    "    in one matplotlib window.\n",
    "    \"\"\"\n",
    "    fig = plt.figure(figsize=(12, 10))\n",
    "    titles = [\n",
    "        \"Figure IV.1: Original\",\n",
    "        \"Figure IV.2: Gaussian blur\",\n",
    "        \"Figure IV.3: Mask\",\n",
    "        \"Figure IV.4: ROI objects\",\n",
    "        \"Figure IV.5: Analyze object\",\n",
    "        \"Figure IV.6: Pseudolandmarks\",\n",
    "        \"Figure IV.7: Color histogram\"\n",
    "    ]\n",
    "\n",
    "    trans_order = [\n",
    "        transformations[\"Original\"],\n",
    "        transformations[\"Gaussian_blur\"],\n",
    "        transformations[\"Mask\"],\n",
    "        transformations[\"ROI_objects\"],\n",
    "        transformations[\"Analyze_object\"],\n",
    "        transformations[\"Pseudolandmarks\"]\n",
    "    ]\n",
    "\n",
    "    for i, img in enumerate(trans_order):\n",
    "        ax = fig.add_subplot(3, 3, i + 1)\n",
    "        ax.imshow(img)\n",
    "        ax.set_title(titles[i])\n",
    "        ax.axis('off')\n",
    "\n",
    "    ax = fig.add_subplot(3, 3, 7)\n",
    "    plot_color_histogram(image, ax)\n",
    "    ax.axis('on')\n",
    "\n",
    "    plt.tight_layout()\n",
    "    plt.show()"
   ]
  }
 ],
 "metadata": {
  "kernelspec": {
   "display_name": "Python 3",
   "language": "python",
   "name": "python3"
  },
  "language_info": {
   "codemirror_mode": {
    "name": "ipython",
    "version": 3
   },
   "file_extension": ".py",
   "mimetype": "text/x-python",
   "name": "python",
   "nbconvert_exporter": "python",
   "pygments_lexer": "ipython3",
   "version": "3.8.10"
  }
 },
 "nbformat": 4,
 "nbformat_minor": 5
}
