{
  "cells": [
    {
      "cell_type": "markdown",
      "id": "4cc8a91c",
      "metadata": {
        "id": "4cc8a91c"
      },
      "source": [
        "## Transformations\n",
        "This notebook contains several image-processing transformations, such as Gaussian blur, segmentation masks, bounding boxes, and contour analysis."
      ]
    },
    {
      "cell_type": "markdown",
      "id": "15fe09fe",
      "metadata": {
        "id": "15fe09fe"
      },
      "source": [
        "## Dependencies"
      ]
    },
    {
      "cell_type": "code",
      "execution_count": 103,
      "id": "import-libraries",
      "metadata": {
        "id": "import-libraries"
      },
      "outputs": [],
      "source": [
        "import os\n",
        "import sys\n",
        "import cv2\n",
        "import argparse\n",
        "import numpy as np\n",
        "import matplotlib.pyplot as plt"
      ]
    },
    {
      "cell_type": "markdown",
      "id": "9c2e2a14",
      "metadata": {
        "id": "9c2e2a14"
      },
      "source": [
        "## Load Image"
      ]
    },
    {
      "cell_type": "code",
      "execution_count": 104,
      "id": "load-image",
      "metadata": {
        "id": "load-image"
      },
      "outputs": [],
      "source": [
        "def load_image(image_path):\n",
        "    \"\"\"Load an image (and convert from BGR to RGB) using OpenCV.\"\"\"\n",
        "    img_bgr = cv2.imread(image_path)\n",
        "    if img_bgr is None:\n",
        "        print(f\"Error: Could not read image {image_path}\")\n",
        "        sys.exit(1)\n",
        "    return cv2.cvtColor(img_bgr, cv2.COLOR_BGR2RGB)"
      ]
    },
    {
      "cell_type": "markdown",
      "id": "7e017a7b",
      "metadata": {
        "id": "7e017a7b"
      },
      "source": [
        "## Save Image"
      ]
    },
    {
      "cell_type": "code",
      "execution_count": 105,
      "id": "save-image",
      "metadata": {
        "id": "save-image"
      },
      "outputs": [],
      "source": [
        "def save_image(image, save_path):\n",
        "    \"\"\"Save an RGB image to file (convert to BGR first).\"\"\"\n",
        "    img_bgr = cv2.cvtColor(image, cv2.COLOR_RGB2BGR)\n",
        "    cv2.imwrite(save_path, img_bgr)"
      ]
    },
    {
      "cell_type": "markdown",
      "id": "2bcb1230",
      "metadata": {
        "id": "2bcb1230"
      },
      "source": [
        "## Transformation Original"
      ]
    },
    {
      "cell_type": "code",
      "execution_count": 106,
      "id": "58e42e1b",
      "metadata": {
        "id": "58e42e1b"
      },
      "outputs": [],
      "source": [
        "def transformation_original(image):\n",
        "    \"\"\"Return the original image.\"\"\"\n",
        "    return image.copy()"
      ]
    },
    {
      "cell_type": "markdown",
      "id": "4a12d95c",
      "metadata": {
        "id": "4a12d95c"
      },
      "source": [
        "## Transformation Gaussian"
      ]
    },
    {
      "cell_type": "code",
      "execution_count": 107,
      "id": "2ced376c",
      "metadata": {
        "id": "2ced376c"
      },
      "outputs": [],
      "source": [
        "def transformation_gaussian(image):\n",
        "    \"\"\"Apply a Gaussian blur to the image.\"\"\"\n",
        "    return cv2.GaussianBlur(image, (7, 7), 0)"
      ]
    },
    {
      "cell_type": "markdown",
      "id": "0fca5e7a",
      "metadata": {
        "id": "0fca5e7a"
      },
      "source": [
        "## Transformation Mask"
      ]
    },
    {
      "cell_type": "code",
      "execution_count": 108,
      "id": "520e4113",
      "metadata": {
        "id": "520e4113"
      },
      "outputs": [],
      "source": [
        "def transformation_mask(image):\n",
        "    \"\"\"\n",
        "    Create a binary mask based on HSV thresholds.\n",
        "    (For example, to roughly segment a green leaf.)\n",
        "    \"\"\"\n",
        "    hsv = cv2.cvtColor(image, cv2.COLOR_RGB2HSV)\n",
        "    lower = np.array([25, 40, 40])\n",
        "    upper = np.array([95, 255, 255])\n",
        "    mask = cv2.inRange(hsv, lower, upper)\n",
        "    mask_rgb = cv2.cvtColor(mask, cv2.COLOR_GRAY2RGB)\n",
        "    return mask_rgb"
      ]
    },
    {
      "cell_type": "markdown",
      "id": "4211be41",
      "metadata": {
        "id": "4211be41"
      },
      "source": [
        "## Transformation Roi"
      ]
    },
    {
      "cell_type": "code",
      "execution_count": 109,
      "id": "4b0b6abc",
      "metadata": {
        "id": "4b0b6abc"
      },
      "outputs": [],
      "source": [
        "def transformation_roi(image):\n",
        "    \"\"\"\n",
        "    Find contours from the mask and draw bounding boxes (ROIs)\n",
        "    on the image.\n",
        "    \"\"\"\n",
        "    mask = cv2.cvtColor(transformation_mask(image), cv2.COLOR_RGB2GRAY)\n",
        "    contours, _ = cv2.findContours(\n",
        "        mask, cv2.RETR_EXTERNAL, cv2.CHAIN_APPROX_SIMPLE)\n",
        "    image_roi = image.copy()\n",
        "    for cnt in contours:\n",
        "        x, y, w, h = cv2.boundingRect(cnt)\n",
        "        cv2.rectangle(image_roi, (x, y), (x + w, y + h), (0, 0, 255), 2)\n",
        "    return image_roi"
      ]
    },
    {
      "cell_type": "markdown",
      "id": "f080849e",
      "metadata": {
        "id": "f080849e"
      },
      "source": [
        "## Transformation Analyze"
      ]
    },
    {
      "cell_type": "code",
      "execution_count": 110,
      "id": "cc5c144f",
      "metadata": {
        "id": "cc5c144f"
      },
      "outputs": [],
      "source": [
        "def transformation_analyze(image):\n",
        "    \"\"\"\n",
        "    Find the largest contour, compute its area and perimeter,\n",
        "    and annotate the image.\n",
        "    \"\"\"\n",
        "    mask = cv2.cvtColor(transformation_mask(image), cv2.COLOR_RGB2GRAY)\n",
        "    contours, _ = cv2.findContours(\n",
        "        mask, cv2.RETR_EXTERNAL, cv2.CHAIN_APPROX_SIMPLE)\n",
        "    image_analyze = image.copy()\n",
        "    if contours:\n",
        "        largest = max(contours, key=cv2.contourArea)\n",
        "        area = cv2.contourArea(largest)\n",
        "        perimeter = cv2.arcLength(largest, True)\n",
        "        cv2.drawContours(image_analyze, [largest], -1, (0, 255, 0), 2)\n",
        "        cv2.putText(image_analyze, f\"Area: {int(area)}\", (10, 30),\n",
        "                    cv2.FONT_HERSHEY_SIMPLEX, 0.8, (255, 0, 0), 2)\n",
        "        cv2.putText(image_analyze, f\"Perimeter: {int(perimeter)}\", (10, 60),\n",
        "                    cv2.FONT_HERSHEY_SIMPLEX, 0.8, (255, 0, 0), 2)\n",
        "    return image_analyze"
      ]
    },
    {
      "cell_type": "markdown",
      "id": "5cba60b9",
      "metadata": {
        "id": "5cba60b9"
      },
      "source": [
        "## Transformation Pseudolandmarks"
      ]
    },
    {
      "cell_type": "code",
      "execution_count": 111,
      "id": "transformation-functions",
      "metadata": {
        "id": "transformation-functions"
      },
      "outputs": [],
      "source": [
        "def transformation_pseudolandmarks(image):\n",
        "    \"\"\"\n",
        "    Detect corners (pseudolandmarks) using goodFeaturesToTrack and mark them.\n",
        "    \"\"\"\n",
        "    gray = cv2.cvtColor(image, cv2.COLOR_RGB2GRAY)\n",
        "    corners = cv2.goodFeaturesToTrack(\n",
        "        gray, maxCorners=50, qualityLevel=0.01, minDistance=10)\n",
        "    image_landmarks = image.copy()\n",
        "    if corners is not None:\n",
        "        corners = corners.astype(int)\n",
        "        for i in corners:\n",
        "            x, y = i.ravel()\n",
        "            cv2.circle(image_landmarks, (x, y), 3,\n",
        "                       (255, 0, 255), -1)\n",
        "    return image_landmarks"
      ]
    },
    {
      "cell_type": "markdown",
      "id": "4558b739",
      "metadata": {
        "id": "4558b739"
      },
      "source": [
        "## Plot Color Histogram"
      ]
    },
    {
      "cell_type": "code",
      "execution_count": null,
      "id": "plot-color-histogram",
      "metadata": {
        "id": "plot-color-histogram"
      },
      "outputs": [],
      "source": [
        "def plot_color_histogram(image, ax):\n",
        "    \"\"\"Plot the color histogram for various channels on the provided axis.\"\"\"\n",
        "\n",
        "    channels = [\n",
        "        (image[:, :, 0], 'r', 'Red'),\n",
        "        (image[:, :, 1], 'g', 'Green'),\n",
        "        (image[:, :, 2], 'b', 'Blue'),\n",
        "    ]\n",
        "\n",
        "    hsv = cv2.cvtColor(image, cv2.COLOR_RGB2HSV)\n",
        "    channels += [\n",
        "        (hsv[:, :, 0], 'orange', 'Hue'),\n",
        "        (hsv[:, :, 1], 'purple', 'Saturation'),\n",
        "        (hsv[:, :, 2], 'black', 'Value'),\n",
        "    ]\n",
        "\n",
        "    hls = cv2.cvtColor(image, cv2.COLOR_RGB2HLS)\n",
        "    channels.append((hls[:, :, 1], 'gray', 'Lightness'))\n",
        "\n",
        "    by_vals = (\n",
        "        image[:, :, 2].astype('float32')\n",
        "        - (\n",
        "            image[:, :, 0].astype('float32')\n",
        "            + image[:, :, 1].astype('float32')\n",
        "          ) / 2\n",
        "    )\n",
        "    by = np.clip(by_vals, 0, 255).astype('uint8')\n",
        "    channels.append((by, 'y', 'Blue-Yellow'))\n",
        "\n",
        "    gm_vals = (\n",
        "        image[:, :, 1].astype('float32')\n",
        "        - (\n",
        "            image[:, :, 0].astype('float32')\n",
        "            + image[:, :, 2].astype('float32')\n",
        "          ) / 2\n",
        "    )\n",
        "    gm = np.clip(gm_vals, 0, 255).astype('uint8')\n",
        "    channels.append((gm, 'm', 'Green-Magenta'))\n",
        "\n",
        "    max_val = 0\n",
        "    for data, color, label in channels:\n",
        "        hist = cv2.calcHist([data], [0], None, [256], [0, 256]).flatten()\n",
        "        hist = hist / hist.sum() * 100\n",
        "        max_val = max(max_val, hist.max())\n",
        "        ax.plot(hist, color=color, label=label)\n",
        "    ax.set_xlim([0, 256])\n",
        "    ax.set_ylim([0, max_val * 1.05])\n",
        "    ax.set_facecolor('whitesmoke')\n",
        "    for spine in ax.spines.values():\n",
        "        spine.set_visible(False)\n",
        "    ax.grid(which='both', color='white', linestyle='-', linewidth=0.5)\n",
        "    ax.set_xlabel(\"Pixel intensity\")\n",
        "    ax.set_ylabel(\"Proportion of pixels (%)\")\n",
        "    ax.set_title(\"Color Histogram\")\n",
        "    ax.legend(\n",
        "        title=\"Color Channel\",\n",
        "        title_fontsize=\"small\",\n",
        "        fontsize=\"small\",\n",
        "        bbox_to_anchor=(1.05, 1),\n",
        "        loc='upper left',\n",
        "        borderaxespad=0.,\n",
        "        frameon=False\n",
        "    )\n",
        "    "
      ]
    },
    {
      "cell_type": "markdown",
      "id": "77a56fb6",
      "metadata": {
        "id": "77a56fb6"
      },
      "source": [
        "## Process Image"
      ]
    },
    {
      "cell_type": "code",
      "execution_count": 113,
      "id": "process-image",
      "metadata": {
        "id": "process-image"
      },
      "outputs": [],
      "source": [
        "def process_image(image_path):\n",
        "    \"\"\"Load an image and compute all transformations.\"\"\"\n",
        "    image = load_image(image_path)\n",
        "    transformations = {\n",
        "        \"Original\": transformation_original(image),\n",
        "        \"Gaussian_blur\": transformation_gaussian(image),\n",
        "        \"Mask\": transformation_mask(image),\n",
        "        \"ROI_objects\": transformation_roi(image),\n",
        "        \"Analyze_object\": transformation_analyze(image),\n",
        "        \"Pseudolandmarks\": transformation_pseudolandmarks(image)\n",
        "    }\n",
        "    return image, transformations"
      ]
    },
    {
      "cell_type": "markdown",
      "id": "b3624e7f",
      "metadata": {
        "id": "b3624e7f"
      },
      "source": [
        "## Display Transformations"
      ]
    },
    {
      "cell_type": "code",
      "execution_count": 114,
      "id": "display-transformations",
      "metadata": {
        "id": "display-transformations"
      },
      "outputs": [],
      "source": [
        "def display_transformations(image, transformations):\n",
        "    \"\"\"\n",
        "    Display all seven figures (six transformations plus color histogram)\n",
        "    in one matplotlib window.\n",
        "    \"\"\"\n",
        "    fig = plt.figure(figsize=(12, 10))\n",
        "    titles = [\n",
        "        \"Figure IV.1: Original\",\n",
        "        \"Figure IV.2: Gaussian blur\",\n",
        "        \"Figure IV.3: Mask\",\n",
        "        \"Figure IV.4: ROI objects\",\n",
        "        \"Figure IV.5: Analyze object\",\n",
        "        \"Figure IV.6: Pseudolandmarks\",\n",
        "        \"Figure IV.7: Color histogram\"\n",
        "    ]\n",
        "\n",
        "    trans_order = [\n",
        "        transformations[\"Original\"],\n",
        "        transformations[\"Gaussian_blur\"],\n",
        "        transformations[\"Mask\"],\n",
        "        transformations[\"ROI_objects\"],\n",
        "        transformations[\"Analyze_object\"],\n",
        "        transformations[\"Pseudolandmarks\"]\n",
        "    ]\n",
        "\n",
        "    for i, img in enumerate(trans_order):\n",
        "        ax = fig.add_subplot(3, 3, i + 1)\n",
        "        ax.imshow(img)\n",
        "        ax.set_title(titles[i])\n",
        "        ax.axis('off')\n",
        "\n",
        "    # histogram spans full bottom row\n",
        "    import matplotlib.gridspec as gridspec\n",
        "    gs = fig.add_gridspec(3, 3)\n",
        "    ax = fig.add_subplot(gs[2, :])\n",
        "    plot_color_histogram(image, ax)\n",
        "    ax.axis('on')\n",
        "\n",
        "    plt.tight_layout()\n",
        "    plt.show()"
      ]
    },
    {
      "cell_type": "markdown",
      "id": "da3c0343",
      "metadata": {
        "id": "da3c0343"
      },
      "source": [
        "## Save Transformations"
      ]
    },
    {
      "cell_type": "code",
      "execution_count": 115,
      "id": "3d788bdd",
      "metadata": {
        "id": "3d788bdd"
      },
      "outputs": [],
      "source": [
        "def save_transformations(image_path, dst_dir):\n",
        "    \"\"\"\n",
        "    Process one image and save the resulting transformations in the\n",
        "    destination directory. The color histogram is saved as a PNG.\n",
        "    \"\"\"\n",
        "    try:\n",
        "        import matplotlib.pyplot as plt\n",
        "    except ImportError:\n",
        "        print(\"Matplotlib or NumPy not available. Skipping histogram save.\")\n",
        "\n",
        "        image, transformations = process_image(image_path)\n",
        "        base_name = os.path.splitext(os.path.basename(image_path))[0]\n",
        "        os.makedirs(dst_dir, exist_ok=True)\n",
        "        for name, img in transformations.items():\n",
        "            save_path = os.path.join(dst_dir, f\"{base_name}_{name}.jpg\")\n",
        "            save_image(img, save_path)\n",
        "            print(f\"Saved: {save_path}\")\n",
        "        return\n",
        "\n",
        "    image, transformations = process_image(image_path)\n",
        "    base_name = os.path.splitext(os.path.basename(image_path))[0]\n",
        "\n",
        "    os.makedirs(dst_dir, exist_ok=True)\n",
        "\n",
        "    for name, img in transformations.items():\n",
        "        save_path = os.path.join(dst_dir, f\"{base_name}_{name}.jpg\")\n",
        "        save_image(img, save_path)\n",
        "        print(f\"Saved: {save_path}\")\n",
        "\n",
        "    hist_path = os.path.join(dst_dir, f\"{base_name}_Color_histogram.png\")\n",
        "    fig, ax = plt.subplots()\n",
        "    plot_color_histogram(image, ax)\n",
        "    plt.savefig(hist_path)\n",
        "    plt.close(fig)\n",
        "    print(f\"Saved: {hist_path}\")"
      ]
    },
    {
      "cell_type": "markdown",
      "id": "bfa6776a",
      "metadata": {
        "id": "bfa6776a"
      },
      "source": [
        "## Process Directory"
      ]
    },
    {
      "cell_type": "code",
      "execution_count": 116,
      "id": "ef590b7e",
      "metadata": {
        "id": "ef590b7e"
      },
      "outputs": [],
      "source": [
        "def process_directory(src_dir, dst_dir):\n",
        "    \"\"\"\n",
        "    Process all image files in the source directory and save the\n",
        "    transformations to the destination directory.\n",
        "    \"\"\"\n",
        "    valid_extensions = {'.jpg', '.jpeg', '.png', '.bmp', '.tif', '.tiff'}\n",
        "    for entry in os.scandir(src_dir):\n",
        "        if entry.is_file() and os.path.splitext(\n",
        "                entry.name)[1].lower() in valid_extensions:\n",
        "            save_transformations(entry.path, dst_dir)"
      ]
    },
    {
      "cell_type": "markdown",
      "id": "dXveVOBLS9S4",
      "metadata": {
        "id": "dXveVOBLS9S4"
      },
      "source": [
        "## Display Saved Images"
      ]
    },
    {
      "cell_type": "code",
      "execution_count": 117,
      "id": "09tn_FcPSbAX",
      "metadata": {
        "id": "09tn_FcPSbAX"
      },
      "outputs": [],
      "source": [
        "def display_saved_images(output_dir):\n",
        "    \"\"\"Display saved images filtering by valid image extensions.\"\"\"\n",
        "    from IPython.display import display, Image\n",
        "    import glob, os\n",
        "\n",
        "    valid_exts = {'.jpg', '.jpeg', '.png', '.bmp', '.tif', '.tiff'}\n",
        "    paths = glob.glob(os.path.join(output_dir, '*'))\n",
        "    img_paths = sorted([p for p in paths\n",
        "                        if os.path.isfile(p) and os.path.splitext(p)[1].lower() in valid_exts])\n",
        "\n",
        "    for img_path in img_paths:\n",
        "        display(Image(filename=img_path))"
      ]
    },
    {
      "cell_type": "markdown",
      "id": "58ecb7ad",
      "metadata": {
        "id": "58ecb7ad"
      },
      "source": [
        "## Main Program"
      ]
    },
    {
      "cell_type": "code",
      "execution_count": 118,
      "id": "581595e3",
      "metadata": {
        "id": "581595e3"
      },
      "outputs": [],
      "source": [
        "def main():\n",
        "    \"\"\"Main program to process images and display transformations.\"\"\"\n",
        "    extract_path = 'image1.JPG'\n",
        "    dst = '/content'\n",
        "\n",
        "    if os.path.isdir(extract_path):\n",
        "        process_directory(extract_path, dst)\n",
        "    elif os.path.isfile(extract_path):\n",
        "        save_transformations(extract_path, dst)\n",
        "    else:\n",
        "        print(f\"Error: {extract_path} is not a valid file or directory.\")\n",
        "\n",
        "    display_saved_images(dst)"
      ]
    },
    {
      "cell_type": "markdown",
      "id": "257c1651",
      "metadata": {
        "id": "257c1651"
      },
      "source": [
        "## Run Main"
      ]
    },
    {
      "cell_type": "code",
      "execution_count": 119,
      "id": "04f13d02",
      "metadata": {
        "colab": {
          "base_uri": "https://localhost:8080/",
          "height": 1000
        },
        "id": "04f13d02",
        "outputId": "fed851c5-018b-4927-f934-7ce2095ad7b4"
      },
      "outputs": [
        {
          "name": "stdout",
          "output_type": "stream",
          "text": [
            "Error: image1.JPG is not a valid file or directory.\n"
          ]
        }
      ],
      "source": [
        "main()"
      ]
    },
    {
      "cell_type": "markdown",
      "id": "xMEiHXDrT6CE",
      "metadata": {
        "id": "xMEiHXDrT6CE"
      },
      "source": [
        "## Cleanup"
      ]
    },
    {
      "cell_type": "code",
      "execution_count": 120,
      "id": "LQKOf4OETuQ5",
      "metadata": {
        "id": "LQKOf4OETuQ5"
      },
      "outputs": [],
      "source": [
        "# ! rm image1_*.*"
      ]
    }
  ],
  "metadata": {
    "colab": {
      "provenance": []
    },
    "kernelspec": {
      "display_name": "Python 3",
      "language": "python",
      "name": "python3"
    },
    "language_info": {
      "codemirror_mode": {
        "name": "ipython",
        "version": 3
      },
      "file_extension": ".py",
      "mimetype": "text/x-python",
      "name": "python",
      "nbconvert_exporter": "python",
      "pygments_lexer": "ipython3",
      "version": "3.10.12"
    }
  },
  "nbformat": 4,
  "nbformat_minor": 5
}
